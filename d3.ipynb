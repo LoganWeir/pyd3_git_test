{
 "cells": [
  {
   "cell_type": "code",
   "execution_count": 14,
   "metadata": {},
   "outputs": [],
   "source": [
    "%reload_ext py_d3"
   ]
  },
  {
   "cell_type": "code",
   "execution_count": 15,
   "metadata": {},
   "outputs": [
    {
     "name": "stdout",
     "output_type": "stream",
     "text": [
      "4.13.0\n"
     ]
    }
   ],
   "source": [
    "%d3 version"
   ]
  },
  {
   "cell_type": "code",
   "execution_count": 21,
   "metadata": {},
   "outputs": [
    {
     "data": {
      "text/html": [
       "\n",
       "<script>\n",
       "requirejs.config({\n",
       "    paths: {\n",
       "        d3: \"d3.v5.min.js\"\n",
       "    }\n",
       "});\n",
       "\n",
       "require([\"d3\"], function(d3) {\n",
       "    window.d3 = d3;\n",
       "});\n",
       "</script>\n",
       "<script>\n",
       "_select = d3.select;\n",
       "\n",
       "d3.select2 = function(selection) {\n",
       "    return _select(\"#d3-cell-2\").select(selection);\n",
       "}\n",
       "d3.selectAll2 = function(selection) {\n",
       "    return _select(\"#d3-cell-2\").selectAll(selection);\n",
       "}\n",
       "</script>\n",
       "\n",
       "<g id=\"d3-cell-2\">\n",
       "        <g></g>\n",
       "<script src=\"more_js_test.js\"></script>\n",
       "</g>"
      ],
      "text/plain": [
       "<IPython.core.display.HTML object>"
      ]
     },
     "metadata": {},
     "output_type": "display_data"
    }
   ],
   "source": [
    "%%d3 \"d3.v5.min.js\"\n",
    "<g></g>\n",
    "<script src=\"more_js_test.js\"></script>"
   ]
  },
  {
   "cell_type": "code",
   "execution_count": 22,
   "metadata": {},
   "outputs": [
    {
     "name": "stdout",
     "output_type": "stream",
     "text": [
      "5\n"
     ]
    }
   ],
   "source": [
    "%d3 version"
   ]
  },
  {
   "cell_type": "code",
   "execution_count": 10,
   "metadata": {},
   "outputs": [
    {
     "data": {
      "text/html": [
       "\n",
       "<script>\n",
       "requirejs.config({\n",
       "    paths: {\n",
       "        d3: \"d3.min.js\"\n",
       "    }\n",
       "});\n",
       "\n",
       "require([\"d3\"], function(d3) {\n",
       "    window.d3 = d3;\n",
       "});\n",
       "</script>\n",
       "<script>\n",
       "_select = d3.select;\n",
       "\n",
       "d3.select0 = function(selection) {\n",
       "    return _select(\"#d3-cell-0\").select(selection);\n",
       "}\n",
       "d3.selectAll0 = function(selection) {\n",
       "    return _select(\"#d3-cell-0\").selectAll(selection);\n",
       "}\n",
       "</script>\n",
       "\n",
       "<g id=\"d3-cell-0\">\n",
       "        \n",
       "<g></g>\n",
       "<script>\n",
       "d3.select0(\"g\").text(\"Hello World\")\n",
       "d3.select0(\"body\").style(\"background-color\", \"black\");\n",
       "</script>\n",
       "<body>\n",
       "\"There it is\"\n",
       "</body>\n",
       "</g>"
      ],
      "text/plain": [
       "<IPython.core.display.HTML object>"
      ]
     },
     "metadata": {},
     "output_type": "display_data"
    }
   ],
   "source": [
    "%%d3 \"d3.v5.min.js\"\n",
    "\n",
    "<g></g>\n",
    "<script>\n",
    "d3.select(\"g\").text(\"Hello World\")\n",
    "d3.select(\"body\").style(\"background-color\", \"black\");\n",
    "</script>\n",
    "<body>\n",
    "\"There it is\"\n",
    "</body>"
   ]
  },
  {
   "cell_type": "code",
   "execution_count": 3,
   "metadata": {},
   "outputs": [
    {
     "data": {
      "text/html": [
       "\n",
       "<script>\n",
       "requirejs.config({\n",
       "    paths: {\n",
       "        d3: \"//cdnjs.cloudflare.com/ajax/libs/d3/3.5.17/d3\"\n",
       "    }\n",
       "});\n",
       "\n",
       "require(['d3'], function(d3) {\n",
       "    window.d3 = d3;\n",
       "});\n",
       "</script>\n",
       "<script>\n",
       "_select = d3.select;\n",
       "\n",
       "d3.select1 = function(selection) {\n",
       "    return _select(\"#d3-cell-1\").select(selection);\n",
       "}\n",
       "d3.selectAll1 = function(selection) {\n",
       "    return _select(\"#d3-cell-1\").selectAll(selection);\n",
       "}\n",
       "</script>\n",
       "<g id=\"d3-cell-1\">\n",
       "\n",
       "<script>\n",
       "var circle = d3.selectAll1(\"circle\");\n",
       "circle.style(\"fill\", \"steelblue\");\n",
       "circle.attr(\"r\", 20);\n",
       "circle.attr(\"cx\", function() { return Math.random() * 720; });\n",
       "</script>\n",
       "<svg width=\"720\" height=\"120\">\n",
       "  <circle cx=\"40\" cy=\"60\" r=\"10\"></circle>\n",
       "  <circle cx=\"80\" cy=\"60\" r=\"10\"></circle>\n",
       "  <circle cx=\"120\" cy=\"40\" r=\"10\"></circle>\n",
       "</svg>\n",
       "\n",
       "\n",
       "</g>"
      ],
      "text/plain": [
       "<IPython.core.display.HTML object>"
      ]
     },
     "metadata": {},
     "output_type": "display_data"
    }
   ],
   "source": [
    "%%d3\n",
    "\n",
    "<script>\n",
    "var circle = d3.selectAll(\"circle\");\n",
    "circle.style(\"fill\", \"steelblue\");\n",
    "circle.attr(\"r\", 20);\n",
    "circle.attr(\"cx\", function() { return Math.random() * 720; });\n",
    "</script>\n",
    "<svg width=\"720\" height=\"120\">\n",
    "  <circle cx=\"40\" cy=\"60\" r=\"10\"></circle>\n",
    "  <circle cx=\"80\" cy=\"60\" r=\"10\"></circle>\n",
    "  <circle cx=\"120\" cy=\"40\" r=\"10\"></circle>\n",
    "</svg>\n",
    "\n",
    "\n"
   ]
  },
  {
   "cell_type": "markdown",
   "metadata": {},
   "source": [
    "## Looping - index is second item!"
   ]
  },
  {
   "cell_type": "code",
   "execution_count": 4,
   "metadata": {},
   "outputs": [
    {
     "data": {
      "text/html": [
       "\n",
       "<script>\n",
       "requirejs.config({\n",
       "    paths: {\n",
       "        d3: \"//cdnjs.cloudflare.com/ajax/libs/d3/3.5.17/d3\"\n",
       "    }\n",
       "});\n",
       "\n",
       "require(['d3'], function(d3) {\n",
       "    window.d3 = d3;\n",
       "});\n",
       "</script>\n",
       "<script>\n",
       "_select = d3.select;\n",
       "\n",
       "d3.select2 = function(selection) {\n",
       "    return _select(\"#d3-cell-2\").select(selection);\n",
       "}\n",
       "d3.selectAll2 = function(selection) {\n",
       "    return _select(\"#d3-cell-2\").selectAll(selection);\n",
       "}\n",
       "</script>\n",
       "<g id=\"d3-cell-2\">\n",
       "\n",
       "\n",
       "<script>\n",
       "var circle = d3.selectAll2(\"circle\");\n",
       "circle.style(\"fill\", \"steelblue\");\n",
       "circle.attr(\"r\", 20);\n",
       "circle.attr(\"cx\", function(d, i) { return i * 300 + 40; });\n",
       "</script>\n",
       "<svg width=\"720\" height=\"120\">\n",
       "  <circle cx=\"40\" cy=\"60\" r=\"10\"></circle>\n",
       "  <circle cx=\"80\" cy=\"60\" r=\"10\"></circle>\n",
       "  <circle cx=\"120\" cy=\"40\" r=\"10\"></circle>\n",
       "</svg>\n",
       "</g>"
      ],
      "text/plain": [
       "<IPython.core.display.HTML object>"
      ]
     },
     "metadata": {},
     "output_type": "display_data"
    }
   ],
   "source": [
    "%%d3\n",
    "\n",
    "\n",
    "<script>\n",
    "var circle = d3.selectAll(\"circle\");\n",
    "circle.style(\"fill\", \"steelblue\");\n",
    "circle.attr(\"r\", 20);\n",
    "circle.attr(\"cx\", function(d, i) { return i * 300 + 40; });\n",
    "</script>\n",
    "<svg width=\"720\" height=\"120\">\n",
    "  <circle cx=\"40\" cy=\"60\" r=\"10\"></circle>\n",
    "  <circle cx=\"80\" cy=\"60\" r=\"10\"></circle>\n",
    "  <circle cx=\"120\" cy=\"40\" r=\"10\"></circle>\n",
    "</svg>\n"
   ]
  },
  {
   "cell_type": "code",
   "execution_count": 5,
   "metadata": {},
   "outputs": [
    {
     "data": {
      "text/html": [
       "\n",
       "<script>\n",
       "requirejs.config({\n",
       "    paths: {\n",
       "        d3: \"//cdnjs.cloudflare.com/ajax/libs/d3/3.5.17/d3\"\n",
       "    }\n",
       "});\n",
       "\n",
       "require(['d3'], function(d3) {\n",
       "    window.d3 = d3;\n",
       "});\n",
       "</script>\n",
       "<script>\n",
       "_select = d3.select;\n",
       "\n",
       "d3.select3 = function(selection) {\n",
       "    return _select(\"#d3-cell-3\").select(selection);\n",
       "}\n",
       "d3.selectAll3 = function(selection) {\n",
       "    return _select(\"#d3-cell-3\").selectAll(selection);\n",
       "}\n",
       "</script>\n",
       "<g id=\"d3-cell-3\">\n",
       "\n",
       "<script>\n",
       "var svg = d3.select3(\"svg\");\n",
       "var circle = svg.selectAll(\"circle\").data([32, 57, 112, 293]);\n",
       "</script>\n",
       "<svg width=\"720\" height=\"120\">\n",
       "  <circle cx=\"40\" cy=\"60\" r=\"10\"></circle>\n",
       "  <circle cx=\"80\" cy=\"60\" r=\"10\"></circle>\n",
       "  <circle cx=\"120\" cy=\"40\" r=\"10\"></circle>\n",
       "</svg>\n",
       "</g>"
      ],
      "text/plain": [
       "<IPython.core.display.HTML object>"
      ]
     },
     "metadata": {},
     "output_type": "display_data"
    }
   ],
   "source": [
    "%%d3\n",
    "\n",
    "<script>\n",
    "var svg = d3.select(\"svg\");\n",
    "var circle = svg.selectAll(\"circle\").data([32, 57, 112, 293]);\n",
    "</script>\n",
    "<svg width=\"720\" height=\"120\">\n",
    "  <circle cx=\"40\" cy=\"60\" r=\"10\"></circle>\n",
    "  <circle cx=\"80\" cy=\"60\" r=\"10\"></circle>\n",
    "  <circle cx=\"120\" cy=\"40\" r=\"10\"></circle>\n",
    "</svg>"
   ]
  },
  {
   "cell_type": "markdown",
   "metadata": {},
   "source": [
    "Printing!!!!"
   ]
  },
  {
   "cell_type": "code",
   "execution_count": 6,
   "metadata": {},
   "outputs": [
    {
     "data": {
      "text/html": [
       "\n",
       "<script>\n",
       "requirejs.config({\n",
       "    paths: {\n",
       "        d3: \"//cdnjs.cloudflare.com/ajax/libs/d3/3.5.17/d3\"\n",
       "    }\n",
       "});\n",
       "\n",
       "require(['d3'], function(d3) {\n",
       "    window.d3 = d3;\n",
       "});\n",
       "</script>\n",
       "<script>\n",
       "_select = d3.select;\n",
       "\n",
       "d3.select4 = function(selection) {\n",
       "    return _select(\"#d3-cell-4\").select(selection);\n",
       "}\n",
       "d3.selectAll4 = function(selection) {\n",
       "    return _select(\"#d3-cell-4\").selectAll(selection);\n",
       "}\n",
       "</script>\n",
       "<g id=\"d3-cell-4\">\n",
       "\n",
       "\n",
       "<script>\n",
       "var circle = d3.selectAll4(\"circle\");\n",
       "var g = d3.selectAll4(\"g\");\n",
       "g.text(function(d, i) { return i;});\n",
       "circle.style(\"fill\", \"steelblue\");\n",
       "circle.attr(\"r\", 20);\n",
       "circle.attr(\"cx\", function(d, i) { return (i * 70) + 5; });\n",
       "console.log(Object.values(circle));\n",
       "</script>\n",
       "<svg width=\"720\" height=\"120\">\n",
       "  <circle cx=\"40\" cy=\"60\" r=\"10\"></circle>\n",
       "  <circle cx=\"80\" cy=\"60\" r=\"10\"></circle>\n",
       "  <circle cx=\"80\" cy=\"40\" r=\"10\"></circle>\n",
       "</svg>\n",
       "<g></g>\n",
       "<g></g>\n",
       "</g>"
      ],
      "text/plain": [
       "<IPython.core.display.HTML object>"
      ]
     },
     "metadata": {},
     "output_type": "display_data"
    }
   ],
   "source": [
    "%%d3\n",
    "\n",
    "\n",
    "<script>\n",
    "var circle = d3.selectAll(\"circle\");\n",
    "var g = d3.selectAll(\"g\");\n",
    "g.text(function(d, i) { return i;});\n",
    "circle.style(\"fill\", \"steelblue\");\n",
    "circle.attr(\"r\", 20);\n",
    "circle.attr(\"cx\", function(d, i) { return (i * 70) + 5; });\n",
    "console.log(Object.values(circle));\n",
    "</script>\n",
    "<svg width=\"720\" height=\"120\">\n",
    "  <circle cx=\"40\" cy=\"60\" r=\"10\"></circle>\n",
    "  <circle cx=\"80\" cy=\"60\" r=\"10\"></circle>\n",
    "  <circle cx=\"80\" cy=\"40\" r=\"10\"></circle>\n",
    "</svg>\n",
    "<g></g>\n",
    "<g></g>"
   ]
  },
  {
   "cell_type": "code",
   "execution_count": null,
   "metadata": {},
   "outputs": [],
   "source": []
  },
  {
   "cell_type": "code",
   "execution_count": null,
   "metadata": {},
   "outputs": [],
   "source": []
  }
 ],
 "metadata": {
  "kernelspec": {
   "display_name": "Python 3",
   "language": "python",
   "name": "python3"
  },
  "language_info": {
   "codemirror_mode": {
    "name": "ipython",
    "version": 3
   },
   "file_extension": ".py",
   "mimetype": "text/x-python",
   "name": "python",
   "nbconvert_exporter": "python",
   "pygments_lexer": "ipython3",
   "version": "3.6.5"
  }
 },
 "nbformat": 4,
 "nbformat_minor": 2
}
