{
 "cells": [
  {
   "cell_type": "code",
   "execution_count": 1,
   "metadata": {},
   "outputs": [],
   "source": [
    "%reload_ext py_d3"
   ]
  },
  {
   "cell_type": "code",
   "execution_count": 6,
   "metadata": {},
   "outputs": [
    {
     "data": {
      "text/html": [
       "\n",
       "<script>\n",
       "requirejs.config({\n",
       "    paths: {\n",
       "        d3: \"//cdnjs.cloudflare.com/ajax/libs/d3/4.13.0/d3\"\n",
       "    }\n",
       "});\n",
       "\n",
       "require([\"d3\"], function(d3) {\n",
       "    window.d3 = d3;\n",
       "});\n",
       "</script>\n",
       "<script>\n",
       "_select = d3.select;\n",
       "\n",
       "d3.select4 = function(selection) {\n",
       "    return _select(\"#d3-cell-4\").select(selection);\n",
       "}\n",
       "d3.selectAll4 = function(selection) {\n",
       "    return _select(\"#d3-cell-4\").selectAll(selection);\n",
       "}\n",
       "</script>\n",
       "\n",
       "<g id=\"d3-cell-4\">\n",
       "        \n",
       "<svg width=\"720\" height=\"120\">\n",
       "  <circle cx=\"40\" cy=\"60\" r=\"10\"></circle>\n",
       "  <circle cx=\"80\" cy=\"60\" r=\"10\"></circle>\n",
       "  <circle cx=\"120\" cy=\"40\" r=\"10\"></circle>\n",
       "</svg>\n",
       "<script>\n",
       "var circle = d3.selectAll4(\"circle\");\n",
       "circle.style(\"fill\", \"steelblue\");\n",
       "circle.attr(\"r\", 20);\n",
       "circle.attr(\"cx\", function() { return Math.random() * 720; });\n",
       "</script>\n",
       "</g>"
      ],
      "text/plain": [
       "<IPython.core.display.HTML object>"
      ]
     },
     "metadata": {},
     "output_type": "display_data"
    }
   ],
   "source": [
    "%%d3\n",
    "\n",
    "<svg width=\"720\" height=\"120\">\n",
    "  <circle cx=\"40\" cy=\"60\" r=\"10\"></circle>\n",
    "  <circle cx=\"80\" cy=\"60\" r=\"10\"></circle>\n",
    "  <circle cx=\"120\" cy=\"40\" r=\"10\"></circle>\n",
    "</svg>\n",
    "<script>\n",
    "var circle = d3.selectAll(\"circle\");\n",
    "circle.style(\"fill\", \"steelblue\");\n",
    "circle.attr(\"r\", 20);\n",
    "circle.attr(\"cx\", function() { return Math.random() * 720; });\n",
    "</script>"
   ]
  },
  {
   "cell_type": "code",
   "execution_count": 9,
   "metadata": {},
   "outputs": [
    {
     "data": {
      "text/html": [
       "<!DOCTYPE html>\n",
       "<meta charset=\"utf-8\">\n",
       "<style>\n",
       "\n",
       ".chart rect {\n",
       "  fill: steelblue;\n",
       "}\n",
       "\n",
       ".chart text {\n",
       "  fill: white;\n",
       "  font: 10px sans-serif;\n",
       "  text-anchor: middle;\n",
       "}\n",
       "\n",
       "</style>\n",
       "<script src=\"d3.v5.min.js\"></script>\n",
       "<body>\n",
       "<svg width=\"720\" height=\"120\">\n",
       "  <circle cx=\"40\" cy=\"60\" r=\"10\"></circle>\n",
       "  <circle cx=\"80\" cy=\"60\" r=\"10\"></circle>\n",
       "  <circle cx=\"120\" cy=\"40\" r=\"10\"></circle>\n",
       "</svg>\n",
       "</body>\n",
       "\n",
       "<script>\n",
       "var circle = d3.selectAll(\"circle\");\n",
       "circle.style(\"fill\", \"steelblue\");\n",
       "circle.attr(\"r\", 20);\n",
       "circle.attr(\"cx\", function() { return Math.random() * 720; });\n",
       "</script>\n"
      ],
      "text/plain": [
       "<IPython.core.display.HTML object>"
      ]
     },
     "execution_count": 9,
     "metadata": {},
     "output_type": "execute_result"
    }
   ],
   "source": [
    "from IPython.display import HTML\n",
    "HTML(filename='html_test.html')"
   ]
  },
  {
   "cell_type": "code",
   "execution_count": 12,
   "metadata": {},
   "outputs": [
    {
     "ename": "NameError",
     "evalue": "name 'Filelink' is not defined",
     "output_type": "error",
     "traceback": [
      "\u001b[0;31m---------------------------------------------------------------------------\u001b[0m",
      "\u001b[0;31mNameError\u001b[0m                                 Traceback (most recent call last)",
      "\u001b[0;32m<ipython-input-12-42c1fea2c73c>\u001b[0m in \u001b[0;36m<module>\u001b[0;34m()\u001b[0m\n\u001b[1;32m      1\u001b[0m \u001b[0;32mfrom\u001b[0m \u001b[0mIPython\u001b[0m\u001b[0;34m.\u001b[0m\u001b[0mdisplay\u001b[0m \u001b[0;32mimport\u001b[0m \u001b[0mdisplay\u001b[0m\u001b[0;34m\u001b[0m\u001b[0m\n\u001b[0;32m----> 2\u001b[0;31m \u001b[0mFilelink\u001b[0m\u001b[0;34m(\u001b[0m\u001b[0;34m'html_test.html'\u001b[0m\u001b[0;34m)\u001b[0m\u001b[0;34m\u001b[0m\u001b[0m\n\u001b[0m",
      "\u001b[0;31mNameError\u001b[0m: name 'Filelink' is not defined"
     ]
    }
   ],
   "source": [
    "from IPython.display import display\n",
    "Filelink('html_test.html')"
   ]
  },
  {
   "cell_type": "code",
   "execution_count": null,
   "metadata": {},
   "outputs": [],
   "source": []
  }
 ],
 "metadata": {
  "kernelspec": {
   "display_name": "Python 3",
   "language": "python",
   "name": "python3"
  },
  "language_info": {
   "codemirror_mode": {
    "name": "ipython",
    "version": 3
   },
   "file_extension": ".py",
   "mimetype": "text/x-python",
   "name": "python",
   "nbconvert_exporter": "python",
   "pygments_lexer": "ipython3",
   "version": "3.6.5"
  }
 },
 "nbformat": 4,
 "nbformat_minor": 2
}
