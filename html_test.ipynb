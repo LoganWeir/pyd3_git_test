{
 "cells": [
  {
   "cell_type": "code",
   "execution_count": 27,
   "metadata": {},
   "outputs": [],
   "source": [
    "%reload_ext py_d3"
   ]
  },
  {
   "cell_type": "code",
   "execution_count": 28,
   "metadata": {},
   "outputs": [
    {
     "data": {
      "text/html": [
       "\n",
       "<script>\n",
       "requirejs.config({\n",
       "    paths: {\n",
       "        d3: \"//cdnjs.cloudflare.com/ajax/libs/d3/4.13.0/d3\"\n",
       "    }\n",
       "});\n",
       "\n",
       "require([\"d3\"], function(d3) {\n",
       "    window.d3 = d3;\n",
       "});\n",
       "</script>\n",
       "<script>\n",
       "_select = d3.select;\n",
       "\n",
       "d3.select0 = function(selection) {\n",
       "    return _select(\"#d3-cell-0\").select(selection);\n",
       "}\n",
       "d3.selectAll0 = function(selection) {\n",
       "    return _select(\"#d3-cell-0\").selectAll(selection);\n",
       "}\n",
       "</script>\n",
       "\n",
       "<g id=\"d3-cell-0\">\n",
       "        \n",
       "<svg width=\"720\" height=\"120\">\n",
       "  <circle cx=\"40\" cy=\"60\" r=\"10\"></circle>\n",
       "  <circle cx=\"80\" cy=\"60\" r=\"10\"></circle>\n",
       "  <circle cx=\"120\" cy=\"40\" r=\"10\"></circle>\n",
       "</svg>\n",
       "<script>\n",
       "var circle = d3.selectAll0(\"circle\");\n",
       "circle.style(\"fill\", \"steelblue\");\n",
       "circle.attr(\"r\", 20);\n",
       "circle.attr(\"cx\", function() { return Math.random() * 720; });\n",
       "</script>\n",
       "</g>"
      ],
      "text/plain": [
       "<IPython.core.display.HTML object>"
      ]
     },
     "metadata": {},
     "output_type": "display_data"
    }
   ],
   "source": [
    "%%d3\n",
    "\n",
    "<svg width=\"720\" height=\"120\">\n",
    "  <circle cx=\"40\" cy=\"60\" r=\"10\"></circle>\n",
    "  <circle cx=\"80\" cy=\"60\" r=\"10\"></circle>\n",
    "  <circle cx=\"120\" cy=\"40\" r=\"10\"></circle>\n",
    "</svg>\n",
    "<script>\n",
    "var circle = d3.selectAll(\"circle\");\n",
    "circle.style(\"fill\", \"steelblue\");\n",
    "circle.attr(\"r\", 20);\n",
    "circle.attr(\"cx\", function() { return Math.random() * 720; });\n",
    "</script>"
   ]
  },
  {
   "cell_type": "code",
   "execution_count": 29,
   "metadata": {},
   "outputs": [
    {
     "data": {
      "text/html": [
       "<!DOCTYPE html>\n",
       "<meta charset=\"utf-8\">\n",
       "<style>\n",
       "\n",
       ".chart rect {\n",
       "  fill: steelblue;\n",
       "}\n",
       "\n",
       ".chart text {\n",
       "  fill: white;\n",
       "  font: 10px sans-serif;\n",
       "  text-anchor: middle;\n",
       "}\n",
       "\n",
       "</style>\n",
       "<script src=\"d3.v5.min.js\"></script>\n",
       "<body>\n",
       "<svg width=\"720\" height=\"120\">\n",
       "  <circle cx=\"40\" cy=\"60\" r=\"10\"></circle>\n",
       "  <circle cx=\"80\" cy=\"60\" r=\"10\"></circle>\n",
       "  <circle cx=\"120\" cy=\"40\" r=\"10\"></circle>\n",
       "</svg>\n",
       "</body>\n",
       "\n",
       "<script>\n",
       "var circle = d3.selectAll(\"circle\");\n",
       "circle.style(\"fill\", \"steelblue\");\n",
       "circle.attr(\"r\", 20);\n",
       "circle.attr(\"cx\", function() { return Math.random() * 720; });\n",
       "</script>\n"
      ],
      "text/plain": [
       "<IPython.core.display.HTML object>"
      ]
     },
     "execution_count": 29,
     "metadata": {},
     "output_type": "execute_result"
    }
   ],
   "source": [
    "from IPython.display import HTML\n",
    "HTML(filename='html_test.html')"
   ]
  },
  {
   "cell_type": "code",
   "execution_count": 30,
   "metadata": {},
   "outputs": [
    {
     "data": {
      "text/html": [
       "<svg width=\"720\" height=\"120\">\n",
       "  <circle cx=\"40\" cy=\"60\" r=\"10\"></circle>\n",
       "  <circle cx=\"80\" cy=\"60\" r=\"10\"></circle>\n",
       "  <circle cx=\"120\" cy=\"40\" r=\"10\"></circle>\n",
       "</svg>\n",
       "<script src=\"more_js_test.js\"></script>"
      ],
      "text/plain": [
       "<IPython.core.display.HTML object>"
      ]
     },
     "metadata": {},
     "output_type": "display_data"
    }
   ],
   "source": [
    "%%html\n",
    "<svg width=\"720\" height=\"120\">\n",
    "  <circle cx=\"40\" cy=\"60\" r=\"10\"></circle>\n",
    "  <circle cx=\"80\" cy=\"60\" r=\"10\"></circle>\n",
    "  <circle cx=\"120\" cy=\"40\" r=\"10\"></circle>\n",
    "</svg>\n",
    "<script src=\"more_js_test.js\"></script>"
   ]
  },
  {
   "cell_type": "code",
   "execution_count": 31,
   "metadata": {},
   "outputs": [
    {
     "data": {
      "text/html": [
       "<script src=\"more_js_test.js\"></script>"
      ],
      "text/plain": [
       "<IPython.core.display.HTML object>"
      ]
     },
     "metadata": {},
     "output_type": "display_data"
    }
   ],
   "source": [
    "%%html\n",
    "<script src=\"more_js_test.js\"></script>"
   ]
  },
  {
   "cell_type": "code",
   "execution_count": 32,
   "metadata": {},
   "outputs": [
    {
     "data": {
      "text/html": [
       "<style>\n",
       ".my_img {\n",
       "    width : 300px\n",
       "}\n",
       "</style>\n",
       "\n",
       "<div>\n",
       "    <div class=\"inline-block\" >\n",
       "        <img class=\"my_img\" src=\"https://s3-us-west-1.amazonaws.com/logan-bucket/IMG_4744.JPG\" />\n",
       "    </div>\n",
       "</div>"
      ],
      "text/plain": [
       "<IPython.core.display.HTML object>"
      ]
     },
     "metadata": {},
     "output_type": "display_data"
    }
   ],
   "source": [
    "%%html\n",
    "<style>\n",
    ".my_img {\n",
    "    width : 300px\n",
    "}\n",
    "</style>\n",
    "\n",
    "<div>\n",
    "    <div class=\"inline-block\" >\n",
    "        <img class=\"my_img\" src=\"https://s3-us-west-1.amazonaws.com/logan-bucket/IMG_4744.JPG\" />\n",
    "    </div>\n",
    "</div>"
   ]
  },
  {
   "cell_type": "code",
   "execution_count": 33,
   "metadata": {},
   "outputs": [
    {
     "data": {
      "text/html": [
       "<img class=\"my_img\" src=\"https://s3-us-west-1.amazonaws.com/logan-bucket/IMG_4744.JPG\" />"
      ],
      "text/plain": [
       "<IPython.core.display.HTML object>"
      ]
     },
     "metadata": {},
     "output_type": "display_data"
    }
   ],
   "source": [
    "%%html\n",
    "<img class=\"my_img\" src=\"https://s3-us-west-1.amazonaws.com/logan-bucket/IMG_4744.JPG\" />"
   ]
  }
 ],
 "metadata": {
  "kernelspec": {
   "display_name": "Python 3",
   "language": "python",
   "name": "python3"
  },
  "language_info": {
   "codemirror_mode": {
    "name": "ipython",
    "version": 3
   },
   "file_extension": ".py",
   "mimetype": "text/x-python",
   "name": "python",
   "nbconvert_exporter": "python",
   "pygments_lexer": "ipython3",
   "version": "3.6.5"
  }
 },
 "nbformat": 4,
 "nbformat_minor": 2
}
